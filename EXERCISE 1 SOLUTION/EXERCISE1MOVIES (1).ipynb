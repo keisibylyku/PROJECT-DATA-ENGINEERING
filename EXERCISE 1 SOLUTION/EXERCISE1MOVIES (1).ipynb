{
 "cells": [
  {
   "cell_type": "code",
   "execution_count": 4,
   "id": "3e7774ee-66c6-4835-9af5-3291e32724ed",
   "metadata": {},
   "outputs": [],
   "source": [
    "import pandas as pd\n",
    "\n",
    "# We will first load the data into the Bronze layer from the Bronze folder on pc\n",
    "credits = pd.read_csv('C:/Users/Dell E7440/Desktop/BRONZE_MOVIES/credits.csv')\n",
    "keywords = pd.read_csv('C:/Users/Dell E7440/Desktop/BRONZE_MOVIES/keywords.csv')\n",
    "links = pd.read_csv('C:/Users/Dell E7440/Desktop/BRONZE_MOVIES/links.csv')\n",
    "links_small = pd.read_csv('C:/Users/Dell E7440/Desktop/BRONZE_MOVIES/links_small.csv')\n",
    "movies_metadata = pd.read_csv('C:/Users/Dell E7440/Desktop/BRONZE_MOVIES/movies_metadata.csv', low_memory=False)\n",
    "ratings_small = pd.read_csv('C:/Users/Dell E7440/Desktop/BRONZE_MOVIES/ratings_small.csv')\n"
   ]
  },
  {
   "cell_type": "code",
   "execution_count": 5,
   "id": "1bc68b3d-4b6d-4db3-b454-6a89a6622f80",
   "metadata": {},
   "outputs": [],
   "source": [
    "import ast  # To safely evaluate strings of lists"
   ]
  },
  {
   "cell_type": "code",
   "execution_count": 6,
   "id": "ac71bcea-fb3d-4126-a99f-c20981a97f07",
   "metadata": {},
   "outputs": [
    {
     "name": "stdout",
     "output_type": "stream",
     "text": [
      "Credits:\n",
      "                                                cast  \\\n",
      "0  [{'cast_id': 14, 'character': 'Woody (voice)',...   \n",
      "1  [{'cast_id': 1, 'character': 'Alan Parrish', '...   \n",
      "2  [{'cast_id': 2, 'character': 'Max Goldman', 'c...   \n",
      "3  [{'cast_id': 1, 'character': \"Savannah 'Vannah...   \n",
      "4  [{'cast_id': 1, 'character': 'George Banks', '...   \n",
      "\n",
      "                                                crew     id  \n",
      "0  [{'credit_id': '52fe4284c3a36847f8024f49', 'de...    862  \n",
      "1  [{'credit_id': '52fe44bfc3a36847f80a7cd1', 'de...   8844  \n",
      "2  [{'credit_id': '52fe466a9251416c75077a89', 'de...  15602  \n",
      "3  [{'credit_id': '52fe44779251416c91011acb', 'de...  31357  \n",
      "4  [{'credit_id': '52fe44959251416c75039ed7', 'de...  11862   \n",
      "\n",
      "Keywords:\n",
      "      id                                           keywords\n",
      "0    862  [{'id': 931, 'name': 'jealousy'}, {'id': 4290,...\n",
      "1   8844  [{'id': 10090, 'name': 'board game'}, {'id': 1...\n",
      "2  15602  [{'id': 1495, 'name': 'fishing'}, {'id': 12392...\n",
      "3  31357  [{'id': 818, 'name': 'based on novel'}, {'id':...\n",
      "4  11862  [{'id': 1009, 'name': 'baby'}, {'id': 1599, 'n... \n",
      "\n",
      "Links:\n",
      "   movieId  imdbId   tmdbId\n",
      "0        1  114709    862.0\n",
      "1        2  113497   8844.0\n",
      "2        3  113228  15602.0\n",
      "3        4  114885  31357.0\n",
      "4        5  113041  11862.0 \n",
      "\n",
      "Links Small:\n",
      "   movieId  imdbId   tmdbId\n",
      "0        1  114709    862.0\n",
      "1        2  113497   8844.0\n",
      "2        3  113228  15602.0\n",
      "3        4  114885  31357.0\n",
      "4        5  113041  11862.0 \n",
      "\n",
      "Movies Metadata:\n",
      "   adult                              belongs_to_collection    budget  \\\n",
      "0  False  {'id': 10194, 'name': 'Toy Story Collection', ...  30000000   \n",
      "1  False                                                NaN  65000000   \n",
      "2  False  {'id': 119050, 'name': 'Grumpy Old Men Collect...         0   \n",
      "3  False                                                NaN  16000000   \n",
      "4  False  {'id': 96871, 'name': 'Father of the Bride Col...         0   \n",
      "\n",
      "                                              genres  \\\n",
      "0  [{'id': 16, 'name': 'Animation'}, {'id': 35, '...   \n",
      "1  [{'id': 12, 'name': 'Adventure'}, {'id': 14, '...   \n",
      "2  [{'id': 10749, 'name': 'Romance'}, {'id': 35, ...   \n",
      "3  [{'id': 35, 'name': 'Comedy'}, {'id': 18, 'nam...   \n",
      "4                     [{'id': 35, 'name': 'Comedy'}]   \n",
      "\n",
      "                               homepage     id    imdb_id original_language  \\\n",
      "0  http://toystory.disney.com/toy-story    862  tt0114709                en   \n",
      "1                                   NaN   8844  tt0113497                en   \n",
      "2                                   NaN  15602  tt0113228                en   \n",
      "3                                   NaN  31357  tt0114885                en   \n",
      "4                                   NaN  11862  tt0113041                en   \n",
      "\n",
      "                original_title  \\\n",
      "0                    Toy Story   \n",
      "1                      Jumanji   \n",
      "2             Grumpier Old Men   \n",
      "3            Waiting to Exhale   \n",
      "4  Father of the Bride Part II   \n",
      "\n",
      "                                            overview  ... release_date  \\\n",
      "0  Led by Woody, Andy's toys live happily in his ...  ...   1995-10-30   \n",
      "1  When siblings Judy and Peter discover an encha...  ...   1995-12-15   \n",
      "2  A family wedding reignites the ancient feud be...  ...   1995-12-22   \n",
      "3  Cheated on, mistreated and stepped on, the wom...  ...   1995-12-22   \n",
      "4  Just when George Banks has recovered from his ...  ...   1995-02-10   \n",
      "\n",
      "       revenue runtime                                   spoken_languages  \\\n",
      "0  373554033.0    81.0           [{'iso_639_1': 'en', 'name': 'English'}]   \n",
      "1  262797249.0   104.0  [{'iso_639_1': 'en', 'name': 'English'}, {'iso...   \n",
      "2          0.0   101.0           [{'iso_639_1': 'en', 'name': 'English'}]   \n",
      "3   81452156.0   127.0           [{'iso_639_1': 'en', 'name': 'English'}]   \n",
      "4   76578911.0   106.0           [{'iso_639_1': 'en', 'name': 'English'}]   \n",
      "\n",
      "     status                                            tagline  \\\n",
      "0  Released                                                NaN   \n",
      "1  Released          Roll the dice and unleash the excitement!   \n",
      "2  Released  Still Yelling. Still Fighting. Still Ready for...   \n",
      "3  Released  Friends are the people who let you be yourself...   \n",
      "4  Released  Just When His World Is Back To Normal... He's ...   \n",
      "\n",
      "                         title  video vote_average vote_count  \n",
      "0                    Toy Story  False          7.7     5415.0  \n",
      "1                      Jumanji  False          6.9     2413.0  \n",
      "2             Grumpier Old Men  False          6.5       92.0  \n",
      "3            Waiting to Exhale  False          6.1       34.0  \n",
      "4  Father of the Bride Part II  False          5.7      173.0  \n",
      "\n",
      "[5 rows x 24 columns] \n",
      "\n",
      "Ratings Small:\n",
      "   userId  movieId  rating   timestamp\n",
      "0       1       31     2.5  1260759144\n",
      "1       1     1029     3.0  1260759179\n",
      "2       1     1061     3.0  1260759182\n",
      "3       1     1129     2.0  1260759185\n",
      "4       1     1172     4.0  1260759205 \n",
      "\n"
     ]
    }
   ],
   "source": [
    "#We will display first five rows of each of these files in order to check approximately how they look liike\n",
    "\n",
    "print(\"Credits:\")\n",
    "print(credits.head(), \"\\n\")\n",
    "\n",
    "print(\"Keywords:\")\n",
    "print(keywords.head(), \"\\n\")\n",
    "\n",
    "print(\"Links:\")\n",
    "print(links.head(), \"\\n\")\n",
    "\n",
    "print(\"Links Small:\")\n",
    "print(links_small.head(), \"\\n\")\n",
    "\n",
    "print(\"Movies Metadata:\")\n",
    "print(movies_metadata.head(), \"\\n\")\n",
    "\n",
    "print(\"Ratings Small:\")\n",
    "print(ratings_small.head(), \"\\n\")\n"
   ]
  },
  {
   "cell_type": "code",
   "execution_count": 57,
   "id": "f0ed3c9b-358b-46ff-bacd-f4b2f5f62fde",
   "metadata": {},
   "outputs": [
    {
     "name": "stdout",
     "output_type": "stream",
     "text": [
      "   userId  movieId  rating   timestamp\n",
      "0       1      110     1.0  1425941529\n",
      "1       1      147     4.5  1425942435\n",
      "2       1      858     5.0  1425941523\n",
      "3       1     1221     5.0  1425941546\n",
      "4       1     1246     5.0  1425941556\n"
     ]
    }
   ],
   "source": [
    "import pandas as pd\n",
    "\n",
    "# Load the ratings file\n",
    "ratings_file_path = r'C:\\Users\\Dell E7440\\Desktop\\BRONZE_MOVIES\\ratings.csv'  # Update the file extension if needed\n",
    "df_ratings = pd.read_csv(ratings_file_path)\n",
    "\n",
    "# Display the first few rows of the dataframe\n",
    "print(df_ratings.head())\n"
   ]
  },
  {
   "cell_type": "code",
   "execution_count": 10,
   "id": "0313ccbe-949e-48dd-bfd4-e99993d38b66",
   "metadata": {},
   "outputs": [],
   "source": [
    "#Transformations for the Credits folder\n",
    "import pandas as pd\n",
    "import ast\n",
    "\n",
    "# Load the dataset from the Bronze layer\n",
    "df_credits = pd.read_csv(r'C:/Users/Dell E7440/Desktop/BRONZE_MOVIES/credits.csv')\n",
    "\n",
    "# Parse JSON-like strings in 'cast' and 'crew'\n",
    "df_credits['cast'] = df_credits['cast'].apply(lambda x: ast.literal_eval(x) if pd.notnull(x) else [])\n",
    "df_credits['crew'] = df_credits['crew'].apply(lambda x: ast.literal_eval(x) if pd.notnull(x) else [])\n",
    "\n",
    "# Extract the first actor and director for simplicity\n",
    "df_credits['main_actor'] = df_credits['cast'].apply(lambda x: x[0]['name'] if len(x) > 0 else 'Unknown')\n",
    "df_credits['director'] = df_credits['crew'].apply(lambda x: next((crew['name'] for crew in x if crew['job'] == 'Director'), 'Unknown'))\n",
    "\n",
    "# Drop the original cast and crew columns\n",
    "df_credits_cleaned = df_credits.drop(columns=['cast', 'crew'])\n",
    "\n",
    "# Save to the Silver layer\n",
    "df_credits_cleaned.to_csv(r'C:/Users/Dell E7440/Desktop/SILVER_MOVIES/credits_cleaned.csv', index=False)\n"
   ]
  },
  {
   "cell_type": "code",
   "execution_count": 11,
   "id": "7552efca-b54f-413e-aea3-a7d6e4010d35",
   "metadata": {},
   "outputs": [],
   "source": [
    "import os\n",
    "\n",
    "# Define the directory path\n",
    "silver_movies_dir = r'C:/Users/Dell E7440/Desktop/SILVER_MOVIES'\n",
    "\n",
    "# Create the directory if it does not exist\n",
    "if not os.path.exists(silver_movies_dir):\n",
    "    os.makedirs(silver_movies_dir)\n",
    "\n",
    "# Now save the cleaned file\n",
    "df_credits_cleaned.to_csv(os.path.join(silver_movies_dir, 'credits_cleaned.csv'), index=False)\n"
   ]
  },
  {
   "cell_type": "code",
   "execution_count": 83,
   "id": "0fff8ed0-e5e0-4f40-8fff-e0fcc40f156f",
   "metadata": {},
   "outputs": [],
   "source": [
    "#Silver Layer transformations for the Keywords folder \n",
    "\n",
    "import pandas as pd\n",
    "import ast\n",
    "import os\n",
    "\n",
    "# Load the dataset from the Bronze layer\n",
    "df_keywords = pd.read_csv(r'C:/Users/Dell E7440/Desktop/BRONZE_MOVIES/keywords.csv')\n",
    "\n",
    "# Parse JSON-like strings in 'keywords' column\n",
    "df_keywords['keywords'] = df_keywords['keywords'].apply(lambda x: ast.literal_eval(x) if pd.notnull(x) else [])\n",
    "\n",
    "# Extract the keyword names\n",
    "df_keywords['keyword_names'] = df_keywords['keywords'].apply(lambda x: [keyword['name'] for keyword in x])\n",
    "\n",
    "# Join the keyword names into a single string (if needed for easier analysis)\n",
    "df_keywords['keyword_names'] = df_keywords['keyword_names'].apply(lambda x: ', '.join(x))\n",
    "\n",
    "# Drop the original 'keywords' column\n",
    "df_keywords_cleaned = df_keywords.drop(columns=['keywords'])\n",
    "\n",
    "# Define the directory path for the Silver layer\n",
    "silver_movies_dir = r'C:/Users/Dell E7440/Desktop/SILVER_MOVIES'\n",
    "\n",
    "# Save the cleaned data to the Silver layer\n",
    "df_keywords_cleaned.to_csv(os.path.join(silver_movies_dir, 'keywords_cleaned.csv'), index=False)\n"
   ]
  },
  {
   "cell_type": "code",
   "execution_count": 84,
   "id": "70c47b8a-86af-4abc-a814-dbc22eb1abfa",
   "metadata": {},
   "outputs": [
    {
     "name": "stdout",
     "output_type": "stream",
     "text": [
      "Number of rows in links.csv: 45843\n",
      "Number of rows in links_small.csv: 9125\n"
     ]
    }
   ],
   "source": [
    "import pandas as pd\n",
    "\n",
    "# Load the links and links_small datasets\n",
    "df_links = pd.read_csv(r'C:/Users/Dell E7440/Desktop/BRONZE_MOVIES/links.csv')\n",
    "df_links_small = pd.read_csv(r'C:/Users/Dell E7440/Desktop/BRONZE_MOVIES/links_small.csv')\n",
    "\n",
    "# Check the number of rows in each dataset\n",
    "links_rows = df_links.shape[0]  # or len(df_links)\n",
    "links_small_rows = df_links_small.shape[0]  # or len(df_links_small)\n",
    "\n",
    "print(f'Number of rows in links.csv: {links_rows}')\n",
    "print(f'Number of rows in links_small.csv: {links_small_rows}')\n"
   ]
  },
  {
   "cell_type": "code",
   "execution_count": 85,
   "id": "bbf1409a-4b27-43e3-933b-6090932009ba",
   "metadata": {},
   "outputs": [],
   "source": [
    "# As links_small is a subset of link file, we will drop it and not save on Silver layer, to simplify the dataset for further analysis\n",
    "df_links.to_csv(os.path.join(silver_movies_dir, 'links.csv'), index=False)\n"
   ]
  },
  {
   "cell_type": "code",
   "execution_count": 4,
   "id": "bb74ab31-0582-4cba-84f1-125b5fe52cd6",
   "metadata": {},
   "outputs": [
    {
     "name": "stderr",
     "output_type": "stream",
     "text": [
      "C:\\Users\\Dell E7440\\AppData\\Local\\Temp\\ipykernel_11036\\2330641903.py:5: DtypeWarning: Columns (10) have mixed types. Specify dtype option on import or set low_memory=False.\n",
      "  df_movies = pd.read_csv('movies_metadata.csv')\n"
     ]
    }
   ],
   "source": [
    "import pandas as pd\n",
    "import ast\n",
    "\n",
    "# Load the Movies Metadata dataset\n",
    "df_movies = pd.read_csv('movies_metadata.csv')\n",
    "\n",
    "\n",
    "\n"
   ]
  },
  {
   "cell_type": "code",
   "execution_count": 5,
   "id": "eb639020-8f2a-40a2-9fc3-a7ccc0fc2a99",
   "metadata": {},
   "outputs": [
    {
     "name": "stdout",
     "output_type": "stream",
     "text": [
      "adult                     object\n",
      "belongs_to_collection     object\n",
      "budget                    object\n",
      "genres                    object\n",
      "homepage                  object\n",
      "id                        object\n",
      "imdb_id                   object\n",
      "original_language         object\n",
      "original_title            object\n",
      "overview                  object\n",
      "popularity                object\n",
      "poster_path               object\n",
      "production_companies      object\n",
      "production_countries      object\n",
      "release_date              object\n",
      "revenue                  float64\n",
      "runtime                  float64\n",
      "spoken_languages          object\n",
      "status                    object\n",
      "tagline                   object\n",
      "title                     object\n",
      "video                     object\n",
      "vote_average             float64\n",
      "vote_count               float64\n",
      "dtype: object\n"
     ]
    }
   ],
   "source": [
    "print(df_movies.dtypes)\n"
   ]
  },
  {
   "cell_type": "code",
   "execution_count": 6,
   "id": "c66d7a5f-fd7d-4182-9375-0741514b8894",
   "metadata": {},
   "outputs": [],
   "source": [
    "df_movies['budget'] = pd.to_numeric(df_movies['budget'], errors='coerce')\n",
    "df_movies['revenue'] = pd.to_numeric(df_movies['revenue'], errors='coerce')\n"
   ]
  },
  {
   "cell_type": "code",
   "execution_count": 7,
   "id": "e9273b5e-d3f7-414a-9bf7-0ab98e16755a",
   "metadata": {},
   "outputs": [],
   "source": [
    "df_movies['release_date'] = pd.to_datetime(df_movies['release_date'], errors='coerce')\n"
   ]
  },
  {
   "cell_type": "code",
   "execution_count": 8,
   "id": "12e1b339-327c-492d-9d80-2eff3701ae9c",
   "metadata": {},
   "outputs": [],
   "source": [
    "import ast\n",
    "\n",
    "df_movies['genres'] = df_movies['genres'].apply(lambda x: ast.literal_eval(x) if pd.notnull(x) else [])\n",
    "# Example of extracting genre names into separate columns or keeping them as lists\n",
    "df_movies['genre_names'] = df_movies['genres'].apply(lambda x: [genre['name'] for genre in x])\n"
   ]
  },
  {
   "cell_type": "code",
   "execution_count": 9,
   "id": "71c1597a-ed06-4f2b-b3e6-d28ceff8010f",
   "metadata": {},
   "outputs": [],
   "source": [
    "df_movies['belongs_to_collection'] = df_movies['belongs_to_collection'].apply(lambda x: ast.literal_eval(x) if pd.notnull(x) else {})\n",
    "df_movies['collection_name'] = df_movies['belongs_to_collection'].apply(lambda x: x.get('name') if isinstance(x, dict) else None)\n"
   ]
  },
  {
   "cell_type": "code",
   "execution_count": 10,
   "id": "07f9ff0c-b5df-4483-a934-ad71eebfbf84",
   "metadata": {},
   "outputs": [
    {
     "name": "stdout",
     "output_type": "stream",
     "text": [
      "adult                        0\n",
      "belongs_to_collection        0\n",
      "budget                       3\n",
      "genres                       0\n",
      "homepage                 37684\n",
      "id                           0\n",
      "imdb_id                     17\n",
      "original_language           11\n",
      "original_title               0\n",
      "overview                   954\n",
      "popularity                   5\n",
      "poster_path                386\n",
      "production_companies         3\n",
      "production_countries         3\n",
      "release_date                90\n",
      "revenue                      6\n",
      "runtime                    263\n",
      "spoken_languages             6\n",
      "status                      87\n",
      "tagline                  25054\n",
      "title                        6\n",
      "video                        6\n",
      "vote_average                 6\n",
      "vote_count                   6\n",
      "genre_names                  0\n",
      "collection_name          40975\n",
      "dtype: int64\n"
     ]
    }
   ],
   "source": [
    "# We will firstly check for null values in each column on the Movies Metadata Folder and then decide how to fill them\n",
    "null_values = df_movies.isnull().sum()\n",
    "print(null_values)\n"
   ]
  },
  {
   "cell_type": "code",
   "execution_count": 11,
   "id": "c23e9fd7-6420-409e-afb0-a3861b6d78ea",
   "metadata": {},
   "outputs": [
    {
     "name": "stderr",
     "output_type": "stream",
     "text": [
      "C:\\Users\\Dell E7440\\AppData\\Local\\Temp\\ipykernel_11036\\3070146070.py:9: FutureWarning: Downcasting object dtype arrays on .fillna, .ffill, .bfill is deprecated and will change in a future version. Call result.infer_objects(copy=False) instead. To opt-in to the future behavior, set `pd.set_option('future.no_silent_downcasting', True)`\n",
      "  df_movies.fillna({\n"
     ]
    }
   ],
   "source": [
    "# Convert numeric columns to appropriate data types\n",
    "numeric_columns = ['budget', 'revenue', 'runtime', 'popularity', 'vote_average', 'vote_count']\n",
    "\n",
    "for column in numeric_columns:\n",
    "    # Convert to numeric, forcing errors to NaN\n",
    "    df_movies[column] = pd.to_numeric(df_movies[column], errors='coerce')\n",
    "\n",
    "# Now fill missing values based on our analysis\n",
    "df_movies.fillna({\n",
    "    'budget': 0,  # We will assume that having no budget means zero\n",
    "    'homepage': 'No Homepage',  # No homepage provided\n",
    "    'imdb_id': 'Unknown',  # We will fill it with the word: Unknown IMDb ID\n",
    "    'original_language': df_movies['original_language'].mode()[0],  # This is the most common language\n",
    "    'overview': 'No Overview',  # Missing overview\n",
    "    'popularity': df_movies['popularity'].median(),  # Fill the missing values with the Median\n",
    "    'poster_path': 'No Image',  # Missing poster\n",
    "    'production_companies': 'Unknown',  # Unknown production company\n",
    "    'production_countries': 'Unknown',  # Unknown production country\n",
    "    'release_date': 'Unknown',  # Missing release date\n",
    "    'revenue': 0,  # We will fill the missing revenues with 0\n",
    "    'runtime': df_movies['runtime'].median(),  # Median runtime\n",
    "    'spoken_languages': 'English',  # English as Default language \n",
    "    'status': 'Unknown',  # Unknown status\n",
    "    'tagline': 'No Tagline',  # Missing tagline\n",
    "    'title': 'Untitled',  # Placeholder for missing title\n",
    "    'video': False,  # We will assume that missing video means no video available\n",
    "    'vote_average': df_movies['vote_average'].median(),  # Median vote average\n",
    "    'vote_count': 0,  # We will fill missing vote count with 0\n",
    "    'collection_name': 'No Collection'  # Missing collection name\n",
    "}, inplace=True)\n",
    "\n"
   ]
  },
  {
   "cell_type": "code",
   "execution_count": 12,
   "id": "ba3e7bad-b6d4-48b5-bab9-e6f602cfcea6",
   "metadata": {},
   "outputs": [
    {
     "name": "stdout",
     "output_type": "stream",
     "text": [
      "adult                    0\n",
      "belongs_to_collection    0\n",
      "budget                   0\n",
      "genres                   0\n",
      "homepage                 0\n",
      "id                       0\n",
      "imdb_id                  0\n",
      "original_language        0\n",
      "original_title           0\n",
      "overview                 0\n",
      "popularity               0\n",
      "poster_path              0\n",
      "production_companies     0\n",
      "production_countries     0\n",
      "release_date             0\n",
      "revenue                  0\n",
      "runtime                  0\n",
      "spoken_languages         0\n",
      "status                   0\n",
      "tagline                  0\n",
      "title                    0\n",
      "video                    0\n",
      "vote_average             0\n",
      "vote_count               0\n",
      "genre_names              0\n",
      "collection_name          0\n",
      "dtype: int64\n"
     ]
    }
   ],
   "source": [
    "# We will firstly check for null values in each column on the Movies Metadata Folder and then decide how to fill them\n",
    "null_values = df_movies.isnull().sum()\n",
    "print(null_values)\n"
   ]
  },
  {
   "cell_type": "code",
   "execution_count": 13,
   "id": "46987add-827d-4fff-9ad8-158f95f21d4a",
   "metadata": {},
   "outputs": [
    {
     "name": "stdout",
     "output_type": "stream",
     "text": [
      "Initial Columns: Index(['adult', 'belongs_to_collection', 'budget', 'genres', 'homepage', 'id',\n",
      "       'imdb_id', 'original_language', 'original_title', 'overview',\n",
      "       'popularity', 'poster_path', 'production_companies',\n",
      "       'production_countries', 'release_date', 'revenue', 'runtime',\n",
      "       'spoken_languages', 'status', 'tagline', 'title', 'video',\n",
      "       'vote_average', 'vote_count', 'genre_names', 'collection_name'],\n",
      "      dtype='object')\n"
     ]
    }
   ],
   "source": [
    "# Print initial columns for verification\n",
    "print(\"Initial Columns:\", df_movies.columns)"
   ]
  },
  {
   "cell_type": "code",
   "execution_count": 14,
   "id": "72283b0a-2179-4b10-bd07-269948878a70",
   "metadata": {},
   "outputs": [
    {
     "name": "stdout",
     "output_type": "stream",
     "text": [
      "First Five Rows of the Transformed DataFrame:\n",
      "   adult                              belongs_to_collection      budget  \\\n",
      "0  False  {'id': 10194, 'name': 'Toy Story Collection', ...  30000000.0   \n",
      "1  False                                                 {}  65000000.0   \n",
      "2  False  {'id': 119050, 'name': 'Grumpy Old Men Collect...         0.0   \n",
      "3  False                                                 {}  16000000.0   \n",
      "4  False  {'id': 96871, 'name': 'Father of the Bride Col...         0.0   \n",
      "\n",
      "                                              genres  \\\n",
      "0  [{'id': 16, 'name': 'Animation'}, {'id': 35, '...   \n",
      "1  [{'id': 12, 'name': 'Adventure'}, {'id': 14, '...   \n",
      "2  [{'id': 10749, 'name': 'Romance'}, {'id': 35, ...   \n",
      "3  [{'id': 35, 'name': 'Comedy'}, {'id': 18, 'nam...   \n",
      "4                     [{'id': 35, 'name': 'Comedy'}]   \n",
      "\n",
      "                               homepage     id    imdb_id original_language  \\\n",
      "0  http://toystory.disney.com/toy-story    862  tt0114709                en   \n",
      "1                           No Homepage   8844  tt0113497                en   \n",
      "2                           No Homepage  15602  tt0113228                en   \n",
      "3                           No Homepage  31357  tt0114885                en   \n",
      "4                           No Homepage  11862  tt0113041                en   \n",
      "\n",
      "                original_title  \\\n",
      "0                    Toy Story   \n",
      "1                      Jumanji   \n",
      "2             Grumpier Old Men   \n",
      "3            Waiting to Exhale   \n",
      "4  Father of the Bride Part II   \n",
      "\n",
      "                                            overview  ...  runtime  \\\n",
      "0  Led by Woody, Andy's toys live happily in his ...  ...     81.0   \n",
      "1  When siblings Judy and Peter discover an encha...  ...    104.0   \n",
      "2  A family wedding reignites the ancient feud be...  ...    101.0   \n",
      "3  Cheated on, mistreated and stepped on, the wom...  ...    127.0   \n",
      "4  Just when George Banks has recovered from his ...  ...    106.0   \n",
      "\n",
      "                                    spoken_languages    status  \\\n",
      "0           [{'iso_639_1': 'en', 'name': 'English'}]  Released   \n",
      "1  [{'iso_639_1': 'en', 'name': 'English'}, {'iso...  Released   \n",
      "2           [{'iso_639_1': 'en', 'name': 'English'}]  Released   \n",
      "3           [{'iso_639_1': 'en', 'name': 'English'}]  Released   \n",
      "4           [{'iso_639_1': 'en', 'name': 'English'}]  Released   \n",
      "\n",
      "                                             tagline  \\\n",
      "0                                         No Tagline   \n",
      "1          Roll the dice and unleash the excitement!   \n",
      "2  Still Yelling. Still Fighting. Still Ready for...   \n",
      "3  Friends are the people who let you be yourself...   \n",
      "4  Just When His World Is Back To Normal... He's ...   \n",
      "\n",
      "                         title  video  vote_average vote_count  \\\n",
      "0                    Toy Story  False           7.7     5415.0   \n",
      "1                      Jumanji  False           6.9     2413.0   \n",
      "2             Grumpier Old Men  False           6.5       92.0   \n",
      "3            Waiting to Exhale  False           6.1       34.0   \n",
      "4  Father of the Bride Part II  False           5.7      173.0   \n",
      "\n",
      "                    genre_names                 collection_name  \n",
      "0   [Animation, Comedy, Family]            Toy Story Collection  \n",
      "1  [Adventure, Fantasy, Family]                   No Collection  \n",
      "2             [Romance, Comedy]       Grumpy Old Men Collection  \n",
      "3      [Comedy, Drama, Romance]                   No Collection  \n",
      "4                      [Comedy]  Father of the Bride Collection  \n",
      "\n",
      "[5 rows x 26 columns]\n"
     ]
    }
   ],
   "source": [
    "# Display the first five rows of the DataFrame after transformations\n",
    "print(\"First Five Rows of the Transformed DataFrame:\")\n",
    "print(df_movies.head())\n"
   ]
  },
  {
   "cell_type": "code",
   "execution_count": 15,
   "id": "4bc7c6ac-1bb9-4a7b-b145-5aa2773623c5",
   "metadata": {},
   "outputs": [
    {
     "name": "stdout",
     "output_type": "stream",
     "text": [
      "Updated DataFrame Head:\n",
      "   collection_id                 collection_name\n",
      "0        10194.0            Toy Story Collection\n",
      "1            NaN                            None\n",
      "2       119050.0       Grumpy Old Men Collection\n",
      "3            NaN                            None\n",
      "4        96871.0  Father of the Bride Collection\n"
     ]
    }
   ],
   "source": [
    "# As \"belongs to collection\" column is in dictionary format we will form two separate columns ( collection_id, collection_name)\n",
    "\n",
    "import pandas as pd\n",
    "import ast\n",
    "\n",
    "\n",
    "# Define a function to extract collection information safely\n",
    "def extract_collection_info(collection):\n",
    "    if isinstance(collection, str):\n",
    "        try:\n",
    "            # If it's a string representation of a dictionary\n",
    "            collection_dict = ast.literal_eval(collection)\n",
    "            return collection_dict.get('id'), collection_dict.get('name')\n",
    "        except (ValueError, SyntaxError):\n",
    "            return None, None\n",
    "    elif isinstance(collection, dict):\n",
    "        # If it's already a dictionary\n",
    "        return collection.get('id'), collection.get('name')\n",
    "    return None, None\n",
    "\n",
    "# Apply the function to extract collection_id and collection_name\n",
    "df_movies['collection_id'], df_movies['collection_name'] = zip(*df_movies['belongs_to_collection'].apply(extract_collection_info))\n",
    "\n",
    "# Display the updated DataFrame to verify the new columns\n",
    "print(\"Updated DataFrame Head:\")\n",
    "print(df_movies[['collection_id', 'collection_name']].head())\n",
    "\n",
    "\n",
    "\n",
    "\n",
    "\n"
   ]
  },
  {
   "cell_type": "code",
   "execution_count": 16,
   "id": "ed7fb13c-ef36-4a1a-8cd5-fd116b5e11c6",
   "metadata": {},
   "outputs": [
    {
     "name": "stdout",
     "output_type": "stream",
     "text": [
      "Updated DataFrame Head After Filling Missing Values:\n",
      "   collection_id                 collection_name\n",
      "0        10194.0            Toy Story Collection\n",
      "1            0.0                   No Collection\n",
      "2       119050.0       Grumpy Old Men Collection\n",
      "3            0.0                   No Collection\n",
      "4        96871.0  Father of the Bride Collection\n"
     ]
    }
   ],
   "source": [
    "# Fill missing values in 'collection_id' with 0 and assign it back to the DataFrame\n",
    "df_movies['collection_id'] = df_movies['collection_id'].fillna(0)\n",
    "\n",
    "# Fill missing values in 'collection_name' with 'No Collection' and assign it back to the DataFrame\n",
    "df_movies['collection_name'] = df_movies['collection_name'].fillna('No Collection')\n",
    "\n",
    "# Verify the updated DataFrame head\n",
    "print(\"Updated DataFrame Head After Filling Missing Values:\")\n",
    "print(df_movies[['collection_id', 'collection_name']].head())\n"
   ]
  },
  {
   "cell_type": "code",
   "execution_count": 17,
   "id": "121e6bd9-dbf5-43c6-badc-1abfdcf7844a",
   "metadata": {},
   "outputs": [],
   "source": [
    "df_movies['collection_id'] = df_movies['collection_id'].astype(int)\n"
   ]
  },
  {
   "cell_type": "code",
   "execution_count": 18,
   "id": "adcebfb2-322b-4ff8-83ca-13639a2da24d",
   "metadata": {},
   "outputs": [
    {
     "name": "stdout",
     "output_type": "stream",
     "text": [
      "[<class 'list'>]\n"
     ]
    }
   ],
   "source": [
    "print(df_movies['genres'].apply(type).unique())\n"
   ]
  },
  {
   "cell_type": "code",
   "execution_count": 19,
   "id": "33b0a480-e978-4e47-b17a-6474d7d8d458",
   "metadata": {},
   "outputs": [],
   "source": [
    "#We wil extract the geners names into a more  manageable format.\n",
    "df_movies['genre_names'] = df_movies['genres'].apply(lambda x: [genre['name'] for genre in x])\n"
   ]
  },
  {
   "cell_type": "code",
   "execution_count": 20,
   "id": "d965bfbc-cea7-4312-b6de-163c142a4b5b",
   "metadata": {},
   "outputs": [
    {
     "name": "stdout",
     "output_type": "stream",
     "text": [
      "                                              genres  \\\n",
      "0  [{'id': 16, 'name': 'Animation'}, {'id': 35, '...   \n",
      "1  [{'id': 12, 'name': 'Adventure'}, {'id': 14, '...   \n",
      "2  [{'id': 10749, 'name': 'Romance'}, {'id': 35, ...   \n",
      "3  [{'id': 35, 'name': 'Comedy'}, {'id': 18, 'nam...   \n",
      "4                     [{'id': 35, 'name': 'Comedy'}]   \n",
      "\n",
      "                    genre_names  \n",
      "0   [Animation, Comedy, Family]  \n",
      "1  [Adventure, Fantasy, Family]  \n",
      "2             [Romance, Comedy]  \n",
      "3      [Comedy, Drama, Romance]  \n",
      "4                      [Comedy]  \n"
     ]
    }
   ],
   "source": [
    "print(df_movies[['genres', 'genre_names']].head())\n"
   ]
  },
  {
   "cell_type": "code",
   "execution_count": 21,
   "id": "f7e0243d-efbb-4767-ac34-bb193178dbf6",
   "metadata": {},
   "outputs": [],
   "source": [
    "\n",
    "df_movies_cleaned = df_movies  # Assign it to df_movies_cleaned or make sure this exists\n",
    "\n",
    "# Save the DataFrame to the Silver layer\n",
    "df_movies_cleaned.to_csv(r'C:/Users/Dell E7440/Desktop/SILVER_MOVIES/movies_cleaned.csv', index=False)\n"
   ]
  },
  {
   "cell_type": "code",
   "execution_count": 22,
   "id": "495b852d-72fd-4b9f-8679-449525e3cba1",
   "metadata": {},
   "outputs": [
    {
     "name": "stdout",
     "output_type": "stream",
     "text": [
      "First Five Rows of the Transformed DataFrame:\n",
      "   adult                              belongs_to_collection      budget  \\\n",
      "0  False  {'id': 10194, 'name': 'Toy Story Collection', ...  30000000.0   \n",
      "1  False                                                 {}  65000000.0   \n",
      "2  False  {'id': 119050, 'name': 'Grumpy Old Men Collect...         0.0   \n",
      "3  False                                                 {}  16000000.0   \n",
      "4  False  {'id': 96871, 'name': 'Father of the Bride Col...         0.0   \n",
      "\n",
      "                                              genres  \\\n",
      "0  [{'id': 16, 'name': 'Animation'}, {'id': 35, '...   \n",
      "1  [{'id': 12, 'name': 'Adventure'}, {'id': 14, '...   \n",
      "2  [{'id': 10749, 'name': 'Romance'}, {'id': 35, ...   \n",
      "3  [{'id': 35, 'name': 'Comedy'}, {'id': 18, 'nam...   \n",
      "4                     [{'id': 35, 'name': 'Comedy'}]   \n",
      "\n",
      "                               homepage     id    imdb_id original_language  \\\n",
      "0  http://toystory.disney.com/toy-story    862  tt0114709                en   \n",
      "1                           No Homepage   8844  tt0113497                en   \n",
      "2                           No Homepage  15602  tt0113228                en   \n",
      "3                           No Homepage  31357  tt0114885                en   \n",
      "4                           No Homepage  11862  tt0113041                en   \n",
      "\n",
      "                original_title  \\\n",
      "0                    Toy Story   \n",
      "1                      Jumanji   \n",
      "2             Grumpier Old Men   \n",
      "3            Waiting to Exhale   \n",
      "4  Father of the Bride Part II   \n",
      "\n",
      "                                            overview  ...  \\\n",
      "0  Led by Woody, Andy's toys live happily in his ...  ...   \n",
      "1  When siblings Judy and Peter discover an encha...  ...   \n",
      "2  A family wedding reignites the ancient feud be...  ...   \n",
      "3  Cheated on, mistreated and stepped on, the wom...  ...   \n",
      "4  Just when George Banks has recovered from his ...  ...   \n",
      "\n",
      "                                    spoken_languages    status  \\\n",
      "0           [{'iso_639_1': 'en', 'name': 'English'}]  Released   \n",
      "1  [{'iso_639_1': 'en', 'name': 'English'}, {'iso...  Released   \n",
      "2           [{'iso_639_1': 'en', 'name': 'English'}]  Released   \n",
      "3           [{'iso_639_1': 'en', 'name': 'English'}]  Released   \n",
      "4           [{'iso_639_1': 'en', 'name': 'English'}]  Released   \n",
      "\n",
      "                                             tagline  \\\n",
      "0                                         No Tagline   \n",
      "1          Roll the dice and unleash the excitement!   \n",
      "2  Still Yelling. Still Fighting. Still Ready for...   \n",
      "3  Friends are the people who let you be yourself...   \n",
      "4  Just When His World Is Back To Normal... He's ...   \n",
      "\n",
      "                         title  video  vote_average  vote_count  \\\n",
      "0                    Toy Story  False           7.7      5415.0   \n",
      "1                      Jumanji  False           6.9      2413.0   \n",
      "2             Grumpier Old Men  False           6.5        92.0   \n",
      "3            Waiting to Exhale  False           6.1        34.0   \n",
      "4  Father of the Bride Part II  False           5.7       173.0   \n",
      "\n",
      "                    genre_names                 collection_name collection_id  \n",
      "0   [Animation, Comedy, Family]            Toy Story Collection         10194  \n",
      "1  [Adventure, Fantasy, Family]                   No Collection             0  \n",
      "2             [Romance, Comedy]       Grumpy Old Men Collection        119050  \n",
      "3      [Comedy, Drama, Romance]                   No Collection             0  \n",
      "4                      [Comedy]  Father of the Bride Collection         96871  \n",
      "\n",
      "[5 rows x 27 columns]\n"
     ]
    }
   ],
   "source": [
    "# Display the first five rows of the DataFrame after transformations\n",
    "print(\"First Five Rows of the Transformed DataFrame:\")\n",
    "print(df_movies.head())\n"
   ]
  },
  {
   "cell_type": "code",
   "execution_count": 24,
   "id": "444b3b42-6575-48cc-977d-c7b1d2888080",
   "metadata": {},
   "outputs": [],
   "source": [
    "import json\n",
    "import pandas as pd\n",
    "\n",
    "# Safely parse production_companies column using json.loads\n",
    "def extract_company_names(company_data):\n",
    "    try:\n",
    "        company_list = json.loads(company_data)\n",
    "        return ', '.join([d['name'] for d in company_list]) if company_list else 'No Company'\n",
    "    except (json.JSONDecodeError, TypeError):  # Catch errors if data is not a proper JSON format\n",
    "        return 'No Company'\n",
    "\n",
    "# We will flatten production_companies to just the names\n",
    "df_movies_cleaned['production_companies'] = df_movies_cleaned['production_companies'].apply(extract_company_names)\n",
    "\n",
    "# The below columns are not needed for further analysis hence we will drop them.\n",
    "columns_to_drop = ['poster_path', 'tagline', 'overview', 'belongs_to_collection']\n",
    "df_movies_cleaned.drop(columns=columns_to_drop, inplace=True, errors='ignore')\n",
    "\n",
    "# Convert release_date to year only\n",
    "df_movies_cleaned['release_year'] = pd.to_datetime(df_movies_cleaned['release_date'], errors='coerce').dt.year\n",
    "df_movies_cleaned.drop(columns=['release_date'], inplace=True)\n",
    "\n",
    "# Save the final cleaned DataFrame to Silver layer\n",
    "df_movies_cleaned.to_csv(r'C:/Users/Dell E7440/Desktop/SILVER_MOVIES/movies_cleaned.csv', index=False)\n",
    "\n"
   ]
  },
  {
   "cell_type": "code",
   "execution_count": 25,
   "id": "edc62975-24c0-42b6-a822-043a0db7219e",
   "metadata": {},
   "outputs": [
    {
     "name": "stdout",
     "output_type": "stream",
     "text": [
      "   adult      budget                                             genres  \\\n",
      "0  False  30000000.0  [{'id': 16, 'name': 'Animation'}, {'id': 35, '...   \n",
      "1  False  65000000.0  [{'id': 12, 'name': 'Adventure'}, {'id': 14, '...   \n",
      "2  False         0.0  [{'id': 10749, 'name': 'Romance'}, {'id': 35, ...   \n",
      "3  False  16000000.0  [{'id': 35, 'name': 'Comedy'}, {'id': 18, 'nam...   \n",
      "4  False         0.0                     [{'id': 35, 'name': 'Comedy'}]   \n",
      "\n",
      "                               homepage     id    imdb_id original_language  \\\n",
      "0  http://toystory.disney.com/toy-story    862  tt0114709                en   \n",
      "1                           No Homepage   8844  tt0113497                en   \n",
      "2                           No Homepage  15602  tt0113228                en   \n",
      "3                           No Homepage  31357  tt0114885                en   \n",
      "4                           No Homepage  11862  tt0113041                en   \n",
      "\n",
      "                original_title  popularity production_companies  ... runtime  \\\n",
      "0                    Toy Story   21.946943           No Company  ...    81.0   \n",
      "1                      Jumanji   17.015539           No Company  ...   104.0   \n",
      "2             Grumpier Old Men   11.712900           No Company  ...   101.0   \n",
      "3            Waiting to Exhale    3.859495           No Company  ...   127.0   \n",
      "4  Father of the Bride Part II    8.387519           No Company  ...   106.0   \n",
      "\n",
      "     status                        title  video vote_average  vote_count  \\\n",
      "0  Released                    Toy Story  False          7.7      5415.0   \n",
      "1  Released                      Jumanji  False          6.9      2413.0   \n",
      "2  Released             Grumpier Old Men  False          6.5        92.0   \n",
      "3  Released            Waiting to Exhale  False          6.1        34.0   \n",
      "4  Released  Father of the Bride Part II  False          5.7       173.0   \n",
      "\n",
      "                    genre_names                 collection_name collection_id  \\\n",
      "0   [Animation, Comedy, Family]            Toy Story Collection         10194   \n",
      "1  [Adventure, Fantasy, Family]                   No Collection             0   \n",
      "2             [Romance, Comedy]       Grumpy Old Men Collection        119050   \n",
      "3      [Comedy, Drama, Romance]                   No Collection             0   \n",
      "4                      [Comedy]  Father of the Bride Collection         96871   \n",
      "\n",
      "  release_year  \n",
      "0       1995.0  \n",
      "1       1995.0  \n",
      "2       1995.0  \n",
      "3       1995.0  \n",
      "4       1995.0  \n",
      "\n",
      "[5 rows x 22 columns]\n"
     ]
    }
   ],
   "source": [
    "# Display the first five rows of the cleaned DataFrame\n",
    "print(df_movies_cleaned.head())\n"
   ]
  },
  {
   "cell_type": "code",
   "execution_count": 26,
   "id": "50332aca-264b-429e-9393-a61e1d85dd31",
   "metadata": {},
   "outputs": [],
   "source": [
    "import pandas as pd\n",
    "import ast\n",
    "\n",
    "# Load your dataset with low_memory=False to avoid DtypeWarning\n",
    "df = pd.read_csv('C:/Users/Dell E7440/Desktop/BRONZE_MOVIES/movies_metadata.csv', low_memory=False)\n",
    "\n",
    "# Function to extract country names\n",
    "def extract_countries(country_data):\n",
    "    try:\n",
    "        # Convert the string representation of the list into a list\n",
    "        country_list = ast.literal_eval(country_data)\n",
    "        # Extract country names from each dictionary in the list\n",
    "        countries = [country['name'] for country in country_list]\n",
    "        return ', '.join(countries)\n",
    "    except (ValueError, SyntaxError, TypeError):\n",
    "        return 'Unknown'\n",
    "\n",
    "# Apply the function to transform the 'production_countries' column\n",
    "df['production_countries_cleaned'] = df['production_countries'].apply(extract_countries)\n",
    "\n",
    "# Save the transformed dataset to the SILVER layer\n",
    "df.to_csv('C:/Users/Dell E7440/Desktop/SILVER/movies_metadata_cleaned.csv', index=False)\n"
   ]
  },
  {
   "cell_type": "code",
   "execution_count": 27,
   "id": "1e28b2e9-746c-4537-bb1a-a1412377697c",
   "metadata": {},
   "outputs": [
    {
     "name": "stdout",
     "output_type": "stream",
     "text": [
      "   adult      budget                                             genres  \\\n",
      "0  False  30000000.0  [{'id': 16, 'name': 'Animation'}, {'id': 35, '...   \n",
      "1  False  65000000.0  [{'id': 12, 'name': 'Adventure'}, {'id': 14, '...   \n",
      "2  False         0.0  [{'id': 10749, 'name': 'Romance'}, {'id': 35, ...   \n",
      "3  False  16000000.0  [{'id': 35, 'name': 'Comedy'}, {'id': 18, 'nam...   \n",
      "4  False         0.0                     [{'id': 35, 'name': 'Comedy'}]   \n",
      "\n",
      "                               homepage     id    imdb_id original_language  \\\n",
      "0  http://toystory.disney.com/toy-story    862  tt0114709                en   \n",
      "1                           No Homepage   8844  tt0113497                en   \n",
      "2                           No Homepage  15602  tt0113228                en   \n",
      "3                           No Homepage  31357  tt0114885                en   \n",
      "4                           No Homepage  11862  tt0113041                en   \n",
      "\n",
      "                original_title  popularity production_companies  ... runtime  \\\n",
      "0                    Toy Story   21.946943           No Company  ...    81.0   \n",
      "1                      Jumanji   17.015539           No Company  ...   104.0   \n",
      "2             Grumpier Old Men   11.712900           No Company  ...   101.0   \n",
      "3            Waiting to Exhale    3.859495           No Company  ...   127.0   \n",
      "4  Father of the Bride Part II    8.387519           No Company  ...   106.0   \n",
      "\n",
      "     status                        title  video vote_average  vote_count  \\\n",
      "0  Released                    Toy Story  False          7.7      5415.0   \n",
      "1  Released                      Jumanji  False          6.9      2413.0   \n",
      "2  Released             Grumpier Old Men  False          6.5        92.0   \n",
      "3  Released            Waiting to Exhale  False          6.1        34.0   \n",
      "4  Released  Father of the Bride Part II  False          5.7       173.0   \n",
      "\n",
      "                    genre_names                 collection_name collection_id  \\\n",
      "0   [Animation, Comedy, Family]            Toy Story Collection         10194   \n",
      "1  [Adventure, Fantasy, Family]                   No Collection             0   \n",
      "2             [Romance, Comedy]       Grumpy Old Men Collection        119050   \n",
      "3      [Comedy, Drama, Romance]                   No Collection             0   \n",
      "4                      [Comedy]  Father of the Bride Collection         96871   \n",
      "\n",
      "  release_year  \n",
      "0       1995.0  \n",
      "1       1995.0  \n",
      "2       1995.0  \n",
      "3       1995.0  \n",
      "4       1995.0  \n",
      "\n",
      "[5 rows x 22 columns]\n"
     ]
    }
   ],
   "source": [
    "# Display the first five rows of the cleaned DataFrame\n",
    "print(df_movies_cleaned.head())\n"
   ]
  },
  {
   "cell_type": "code",
   "execution_count": 52,
   "id": "1255b514-36cb-4c47-aa92-0dca727e2a3f",
   "metadata": {},
   "outputs": [
    {
     "name": "stdout",
     "output_type": "stream",
     "text": [
      "[\"[{'iso_3166_1': 'US', 'name': 'United States of America'}]\"\n",
      " \"[{'iso_3166_1': 'DE', 'name': 'Germany'}, {'iso_3166_1': 'US', 'name': 'United States of America'}]\"\n",
      " \"[{'iso_3166_1': 'GB', 'name': 'United Kingdom'}, {'iso_3166_1': 'US', 'name': 'United States of America'}]\"\n",
      " ...\n",
      " \"[{'iso_3166_1': 'PL', 'name': 'Poland'}, {'iso_3166_1': 'CZ', 'name': 'Czech Republic'}, {'iso_3166_1': 'SK', 'name': 'Slovakia'}]\"\n",
      " \"[{'iso_3166_1': 'CU', 'name': 'Cuba'}, {'iso_3166_1': 'DE', 'name': 'Germany'}, {'iso_3166_1': 'ES', 'name': 'Spain'}]\"\n",
      " \"[{'iso_3166_1': 'EG', 'name': 'Egypt'}, {'iso_3166_1': 'IT', 'name': 'Italy'}, {'iso_3166_1': 'US', 'name': 'United States of America'}]\"]\n"
     ]
    }
   ],
   "source": [
    "# Check unique values in the production_countries column\n",
    "print(df_movies_cleaned['production_countries'].unique())\n"
   ]
  },
  {
   "cell_type": "code",
   "execution_count": 59,
   "id": "faaaa251-7a70-4f9e-aa9c-111ab70829b8",
   "metadata": {},
   "outputs": [
    {
     "data": {
      "text/plain": [
       "{'ratings': {'null_values': userId       0\n",
       "  movieId      0\n",
       "  rating       0\n",
       "  timestamp    0\n",
       "  dtype: int64,\n",
       "  'number_of_rows': 26024289},\n",
       " 'ratings_small': {'null_values': userId       0\n",
       "  movieId      0\n",
       "  rating       0\n",
       "  timestamp    0\n",
       "  dtype: int64,\n",
       "  'number_of_rows': 100004}}"
      ]
     },
     "execution_count": 59,
     "metadata": {},
     "output_type": "execute_result"
    }
   ],
   "source": [
    "import pandas as pd\n",
    "\n",
    "# Load the ratings files\n",
    "ratings = pd.read_csv(r'C:\\Users\\Dell E7440\\Desktop\\BRONZE_MOVIES\\ratings.csv')\n",
    "ratings_small = pd.read_csv(r'C:\\Users\\Dell E7440\\Desktop\\BRONZE_MOVIES\\ratings_small.csv')\n",
    "\n",
    "# Check for null values and the number of rows\n",
    "ratings_info = {\n",
    "    'ratings': {\n",
    "        'null_values': ratings.isnull().sum(),\n",
    "        'number_of_rows': ratings.shape[0]\n",
    "    },\n",
    "    'ratings_small': {\n",
    "        'null_values': ratings_small.isnull().sum(),\n",
    "        'number_of_rows': ratings_small.shape[0]\n",
    "    }\n",
    "}\n",
    "\n",
    "ratings_info\n"
   ]
  },
  {
   "cell_type": "code",
   "execution_count": 61,
   "id": "f6ea9e6a-080c-4ff7-bfb4-b0812c7414b4",
   "metadata": {},
   "outputs": [
    {
     "name": "stdout",
     "output_type": "stream",
     "text": [
      "   userId  movieId  rating   timestamp\n",
      "0       1       31     2.5  1260759144\n",
      "1       1     1029     3.0  1260759179\n",
      "2       1     1061     3.0  1260759182\n",
      "3       1     1129     2.0  1260759185\n",
      "4       1     1172     4.0  1260759205\n"
     ]
    }
   ],
   "source": [
    "import pandas as pd\n",
    "\n",
    "# Load the ratings_small dataset\n",
    "df_ratings_small = pd.read_csv(r'C:/Users/Dell E7440/Desktop/BRONZE_MOVIES/ratings_small.csv')\n",
    "\n",
    "# Display the first few rows to confirm it's loaded\n",
    "print(df_ratings_small.head())\n"
   ]
  },
  {
   "cell_type": "code",
   "execution_count": 62,
   "id": "fa4c15b1-54fa-4c62-9f7e-9de0d12384e6",
   "metadata": {},
   "outputs": [],
   "source": [
    "#Transforming the rating and ratings_small file for the Silver Layer\n",
    "\n",
    "df_ratings['timestamp'] = pd.to_datetime(df_ratings['timestamp'], unit='s')\n",
    "df_ratings_small['timestamp'] = pd.to_datetime(df_ratings_small['timestamp'], unit='s')\n"
   ]
  },
  {
   "cell_type": "code",
   "execution_count": 63,
   "id": "8c590f25-72cd-4fc4-9212-e5dc2e021e30",
   "metadata": {},
   "outputs": [
    {
     "name": "stdout",
     "output_type": "stream",
     "text": [
      "   userId  movieId  rating           timestamp\n",
      "0       1      110     1.0 2015-03-09 22:52:09\n",
      "1       1      147     4.5 2015-03-09 23:07:15\n",
      "2       1      858     5.0 2015-03-09 22:52:03\n",
      "3       1     1221     5.0 2015-03-09 22:52:26\n",
      "4       1     1246     5.0 2015-03-09 22:52:36\n",
      "   userId  movieId  rating           timestamp\n",
      "0       1       31     2.5 2009-12-14 02:52:24\n",
      "1       1     1029     3.0 2009-12-14 02:52:59\n",
      "2       1     1061     3.0 2009-12-14 02:53:02\n",
      "3       1     1129     2.0 2009-12-14 02:53:05\n",
      "4       1     1172     4.0 2009-12-14 02:53:25\n"
     ]
    }
   ],
   "source": [
    "# Displaying the transformed dataframes\n",
    "print(df_ratings.head())\n",
    "print(df_ratings_small.head())"
   ]
  },
  {
   "cell_type": "code",
   "execution_count": 64,
   "id": "f3c2b6f3-e8ef-4565-80a4-f9664cb26de7",
   "metadata": {},
   "outputs": [
    {
     "name": "stdout",
     "output_type": "stream",
     "text": [
      "0\n",
      "0\n"
     ]
    }
   ],
   "source": [
    "# We will now Cceck for duplicates in the ratings dataset\n",
    "print(df_ratings.duplicated().sum())\n",
    "\n",
    "# Check Also in the ratings_small dataset\n",
    "print(df_ratings_small.duplicated().sum())\n"
   ]
  },
  {
   "cell_type": "code",
   "execution_count": 65,
   "id": "84a77e47-cf56-48ba-93c4-e3dda1c63371",
   "metadata": {},
   "outputs": [
    {
     "name": "stdout",
     "output_type": "stream",
     "text": [
      "   user_id  movie_id  user_rating           timestamp\n",
      "0        1       110          1.0 2015-03-09 22:52:09\n",
      "1        1       147          4.5 2015-03-09 23:07:15\n",
      "2        1       858          5.0 2015-03-09 22:52:03\n",
      "3        1      1221          5.0 2015-03-09 22:52:26\n",
      "4        1      1246          5.0 2015-03-09 22:52:36\n",
      "   user_id  movie_id  user_rating           timestamp\n",
      "0        1        31          2.5 2009-12-14 02:52:24\n",
      "1        1      1029          3.0 2009-12-14 02:52:59\n",
      "2        1      1061          3.0 2009-12-14 02:53:02\n",
      "3        1      1129          2.0 2009-12-14 02:53:05\n",
      "4        1      1172          4.0 2009-12-14 02:53:25\n"
     ]
    }
   ],
   "source": [
    "\n",
    "# Lets rename columns for clarity\n",
    "df_ratings.rename(columns={'userId': 'user_id', 'movieId': 'movie_id', 'rating': 'user_rating'}, inplace=True)\n",
    "df_ratings_small.rename(columns={'userId': 'user_id', 'movieId': 'movie_id', 'rating': 'user_rating'}, inplace=True)\n",
    "\n",
    "# Save the cleaned DataFrames to the Silver layer\n",
    "df_ratings.to_csv(r'C:/Users/Dell E7440/Desktop/SILVER_MOVIES/ratings_cleaned.csv', index=False)\n",
    "df_ratings_small.to_csv(r'C:/Users/Dell E7440/Desktop/SILVER_MOVIES/ratings_small_cleaned.csv', index=False)\n",
    "\n",
    "# Display the final DataFrames\n",
    "print(df_ratings.head())\n",
    "print(df_ratings_small.head())"
   ]
  },
  {
   "cell_type": "code",
   "execution_count": 31,
   "id": "284cfab5-6252-4399-8875-3dfbeff8516b",
   "metadata": {
    "scrolled": true
   },
   "outputs": [
    {
     "name": "stdout",
     "output_type": "stream",
     "text": [
      "--- credits_cleaned.csv ---\n",
      "      id       main_actor         director\n",
      "0    862        Tom Hanks    John Lasseter\n",
      "1   8844   Robin Williams     Joe Johnston\n",
      "2  15602   Walter Matthau    Howard Deutch\n",
      "3  31357  Whitney Houston  Forest Whitaker\n",
      "4  11862     Steve Martin    Charles Shyer \n",
      "\n",
      "--- keywords_cleaned.csv ---\n",
      "      id                                      keyword_names\n",
      "0    862  jealousy, toy, boy, friendship, friends, rival...\n",
      "1   8844  board game, disappearance, based on children's...\n",
      "2  15602  fishing, best friend, duringcreditsstinger, ol...\n",
      "3  31357  based on novel, interracial relationship, sing...\n",
      "4  11862  baby, midlife crisis, confidence, aging, daugh... \n",
      "\n",
      "--- links.csv ---\n",
      "   movieId  imdbId   tmdbId\n",
      "0        1  114709    862.0\n",
      "1        2  113497   8844.0\n",
      "2        3  113228  15602.0\n",
      "3        4  114885  31357.0\n",
      "4        5  113041  11862.0 \n",
      "\n",
      "--- movies_cleaned.csv ---\n",
      "   adult      budget                                             genres  \\\n",
      "0  False  30000000.0  [{'id': 16, 'name': 'Animation'}, {'id': 35, '...   \n",
      "1  False  65000000.0  [{'id': 12, 'name': 'Adventure'}, {'id': 14, '...   \n",
      "2  False         0.0  [{'id': 10749, 'name': 'Romance'}, {'id': 35, ...   \n",
      "3  False  16000000.0  [{'id': 35, 'name': 'Comedy'}, {'id': 18, 'nam...   \n",
      "4  False         0.0                     [{'id': 35, 'name': 'Comedy'}]   \n",
      "\n",
      "                               homepage     id    imdb_id original_language  \\\n",
      "0  http://toystory.disney.com/toy-story    862  tt0114709                en   \n",
      "1                           No Homepage   8844  tt0113497                en   \n",
      "2                           No Homepage  15602  tt0113228                en   \n",
      "3                           No Homepage  31357  tt0114885                en   \n",
      "4                           No Homepage  11862  tt0113041                en   \n",
      "\n",
      "                original_title  popularity production_companies  ... runtime  \\\n",
      "0                    Toy Story   21.946943           No Company  ...    81.0   \n",
      "1                      Jumanji   17.015539           No Company  ...   104.0   \n",
      "2             Grumpier Old Men   11.712900           No Company  ...   101.0   \n",
      "3            Waiting to Exhale    3.859495           No Company  ...   127.0   \n",
      "4  Father of the Bride Part II    8.387519           No Company  ...   106.0   \n",
      "\n",
      "     status                        title  video vote_average  vote_count  \\\n",
      "0  Released                    Toy Story  False          7.7      5415.0   \n",
      "1  Released                      Jumanji  False          6.9      2413.0   \n",
      "2  Released             Grumpier Old Men  False          6.5        92.0   \n",
      "3  Released            Waiting to Exhale  False          6.1        34.0   \n",
      "4  Released  Father of the Bride Part II  False          5.7       173.0   \n",
      "\n",
      "                          genre_names                 collection_name  \\\n",
      "0   ['Animation', 'Comedy', 'Family']            Toy Story Collection   \n",
      "1  ['Adventure', 'Fantasy', 'Family']                   No Collection   \n",
      "2               ['Romance', 'Comedy']       Grumpy Old Men Collection   \n",
      "3      ['Comedy', 'Drama', 'Romance']                   No Collection   \n",
      "4                          ['Comedy']  Father of the Bride Collection   \n",
      "\n",
      "  collection_id release_year  \n",
      "0         10194       1995.0  \n",
      "1             0       1995.0  \n",
      "2        119050       1995.0  \n",
      "3             0       1995.0  \n",
      "4         96871       1995.0  \n",
      "\n",
      "[5 rows x 22 columns] \n",
      "\n",
      "--- ratings_cleaned.csv ---\n",
      "   user_id  movie_id  user_rating            timestamp\n",
      "0        1       110          1.0  2015-03-09 22:52:09\n",
      "1        1       147          4.5  2015-03-09 23:07:15\n",
      "2        1       858          5.0  2015-03-09 22:52:03\n",
      "3        1      1221          5.0  2015-03-09 22:52:26\n",
      "4        1      1246          5.0  2015-03-09 22:52:36 \n",
      "\n",
      "--- ratings_small_cleaned.csv ---\n",
      "   user_id  movie_id  user_rating            timestamp\n",
      "0        1        31          2.5  2009-12-14 02:52:24\n",
      "1        1      1029          3.0  2009-12-14 02:52:59\n",
      "2        1      1061          3.0  2009-12-14 02:53:02\n",
      "3        1      1129          2.0  2009-12-14 02:53:05\n",
      "4        1      1172          4.0  2009-12-14 02:53:25 \n",
      "\n"
     ]
    }
   ],
   "source": [
    "import pandas as pd\n",
    "\n",
    "# Define the correct path for the files in the SILVER_MOVIES folder\n",
    "silver_folder = 'C:/Users/Dell E7440/Desktop/SILVER_MOVIES/'\n",
    "\n",
    "# List of files to print\n",
    "files = ['credits_cleaned.csv', 'keywords_cleaned.csv', 'links.csv', 'movies_cleaned.csv', \n",
    "         'ratings_cleaned.csv', 'ratings_small_cleaned.csv']\n",
    "\n",
    "# Load and display the first few rows of each file\n",
    "for file in files:\n",
    "    df = pd.read_csv(silver_folder + file)\n",
    "    print(f\"--- {file} ---\")\n",
    "    print(df.head(), '\\n')\n",
    "\n"
   ]
  },
  {
   "cell_type": "code",
   "execution_count": 33,
   "id": "b3799331-0d05-423c-97a5-8485eabddb4c",
   "metadata": {},
   "outputs": [],
   "source": [
    "import pandas as pd\n",
    "\n",
    "# Load the movies_cleaned dataset\n",
    "movies_cleaned = pd.read_csv('C:/Users/Dell E7440/Desktop/SILVER_MOVIES/movies_cleaned.csv')\n",
    "\n",
    "# Perform one-hot encoding on the 'genre_names' column\n",
    "genres = movies_cleaned['genre_names'].apply(lambda x: ','.join(eval(x))).str.get_dummies(sep=', ')\n"
   ]
  },
  {
   "cell_type": "code",
   "execution_count": 34,
   "id": "d1436ca7-0468-4107-8cf8-b218c0f0c0c9",
   "metadata": {},
   "outputs": [],
   "source": [
    "# Save the final cleaned DataFrame to Silver layer\n",
    "df_movies_cleaned.to_csv(r'C:/Users/Dell E7440/Desktop/SILVER_MOVIES/movies_cleaned.csv', index=False)\n"
   ]
  },
  {
   "cell_type": "code",
   "execution_count": 35,
   "id": "5c93dba1-5fc2-47d5-b25b-c3b21a60a07a",
   "metadata": {},
   "outputs": [
    {
     "name": "stdout",
     "output_type": "stream",
     "text": [
      "--- credits_cleaned.csv ---\n",
      "      id       main_actor         director\n",
      "0    862        Tom Hanks    John Lasseter\n",
      "1   8844   Robin Williams     Joe Johnston\n",
      "2  15602   Walter Matthau    Howard Deutch\n",
      "3  31357  Whitney Houston  Forest Whitaker\n",
      "4  11862     Steve Martin    Charles Shyer \n",
      "\n",
      "--- keywords_cleaned.csv ---\n",
      "      id                                      keyword_names\n",
      "0    862  jealousy, toy, boy, friendship, friends, rival...\n",
      "1   8844  board game, disappearance, based on children's...\n",
      "2  15602  fishing, best friend, duringcreditsstinger, ol...\n",
      "3  31357  based on novel, interracial relationship, sing...\n",
      "4  11862  baby, midlife crisis, confidence, aging, daugh... \n",
      "\n",
      "--- links.csv ---\n",
      "   movieId  imdbId   tmdbId\n",
      "0        1  114709    862.0\n",
      "1        2  113497   8844.0\n",
      "2        3  113228  15602.0\n",
      "3        4  114885  31357.0\n",
      "4        5  113041  11862.0 \n",
      "\n",
      "--- movies_cleaned.csv ---\n",
      "   adult      budget                                             genres  \\\n",
      "0  False  30000000.0  [{'id': 16, 'name': 'Animation'}, {'id': 35, '...   \n",
      "1  False  65000000.0  [{'id': 12, 'name': 'Adventure'}, {'id': 14, '...   \n",
      "2  False         0.0  [{'id': 10749, 'name': 'Romance'}, {'id': 35, ...   \n",
      "3  False  16000000.0  [{'id': 35, 'name': 'Comedy'}, {'id': 18, 'nam...   \n",
      "4  False         0.0                     [{'id': 35, 'name': 'Comedy'}]   \n",
      "\n",
      "                               homepage     id    imdb_id original_language  \\\n",
      "0  http://toystory.disney.com/toy-story    862  tt0114709                en   \n",
      "1                           No Homepage   8844  tt0113497                en   \n",
      "2                           No Homepage  15602  tt0113228                en   \n",
      "3                           No Homepage  31357  tt0114885                en   \n",
      "4                           No Homepage  11862  tt0113041                en   \n",
      "\n",
      "                original_title  popularity production_companies  ... runtime  \\\n",
      "0                    Toy Story   21.946943           No Company  ...    81.0   \n",
      "1                      Jumanji   17.015539           No Company  ...   104.0   \n",
      "2             Grumpier Old Men   11.712900           No Company  ...   101.0   \n",
      "3            Waiting to Exhale    3.859495           No Company  ...   127.0   \n",
      "4  Father of the Bride Part II    8.387519           No Company  ...   106.0   \n",
      "\n",
      "     status                        title  video vote_average  vote_count  \\\n",
      "0  Released                    Toy Story  False          7.7      5415.0   \n",
      "1  Released                      Jumanji  False          6.9      2413.0   \n",
      "2  Released             Grumpier Old Men  False          6.5        92.0   \n",
      "3  Released            Waiting to Exhale  False          6.1        34.0   \n",
      "4  Released  Father of the Bride Part II  False          5.7       173.0   \n",
      "\n",
      "                          genre_names                 collection_name  \\\n",
      "0   ['Animation', 'Comedy', 'Family']            Toy Story Collection   \n",
      "1  ['Adventure', 'Fantasy', 'Family']                   No Collection   \n",
      "2               ['Romance', 'Comedy']       Grumpy Old Men Collection   \n",
      "3      ['Comedy', 'Drama', 'Romance']                   No Collection   \n",
      "4                          ['Comedy']  Father of the Bride Collection   \n",
      "\n",
      "  collection_id release_year  \n",
      "0         10194       1995.0  \n",
      "1             0       1995.0  \n",
      "2        119050       1995.0  \n",
      "3             0       1995.0  \n",
      "4         96871       1995.0  \n",
      "\n",
      "[5 rows x 22 columns] \n",
      "\n",
      "--- ratings_cleaned.csv ---\n",
      "   user_id  movie_id  user_rating            timestamp\n",
      "0        1       110          1.0  2015-03-09 22:52:09\n",
      "1        1       147          4.5  2015-03-09 23:07:15\n",
      "2        1       858          5.0  2015-03-09 22:52:03\n",
      "3        1      1221          5.0  2015-03-09 22:52:26\n",
      "4        1      1246          5.0  2015-03-09 22:52:36 \n",
      "\n",
      "--- ratings_small_cleaned.csv ---\n",
      "   user_id  movie_id  user_rating            timestamp\n",
      "0        1        31          2.5  2009-12-14 02:52:24\n",
      "1        1      1029          3.0  2009-12-14 02:52:59\n",
      "2        1      1061          3.0  2009-12-14 02:53:02\n",
      "3        1      1129          2.0  2009-12-14 02:53:05\n",
      "4        1      1172          4.0  2009-12-14 02:53:25 \n",
      "\n"
     ]
    }
   ],
   "source": [
    "import pandas as pd\n",
    "\n",
    "# Define the correct path for the files in the SILVER_MOVIES folder\n",
    "silver_folder = 'C:/Users/Dell E7440/Desktop/SILVER_MOVIES/'\n",
    "\n",
    "# List of files to print\n",
    "files = ['credits_cleaned.csv', 'keywords_cleaned.csv', 'links.csv', 'movies_cleaned.csv', \n",
    "         'ratings_cleaned.csv', 'ratings_small_cleaned.csv']\n",
    "\n",
    "# Load and display the first few rows of each file\n",
    "for file in files:\n",
    "    df = pd.read_csv(silver_folder + file)\n",
    "    print(f\"--- {file} ---\")\n",
    "    print(df.head(), '\\n')\n"
   ]
  },
  {
   "cell_type": "code",
   "execution_count": 36,
   "id": "0e4598c6-39e8-48ef-b626-00dedccc257d",
   "metadata": {},
   "outputs": [],
   "source": [
    "import pandas as pd\n",
    "\n",
    "# Load the movies_cleaned dataset\n",
    "movies_cleaned = pd.read_csv('C:/Users/Dell E7440/Desktop/SILVER_MOVIES/movies_cleaned.csv')\n",
    "\n",
    "# One-hot encoding was already applied\n",
    "# Drop the original 'genres' column\n",
    "movies_cleaned.drop(columns=['genres'], inplace=True)\n",
    "\n",
    "# Save the updated file back to SILVER_MOVIES\n",
    "movies_cleaned.to_csv('C:/Users/Dell E7440/Desktop/SILVER_MOVIES/movies_cleaned.csv', index=False)\n"
   ]
  },
  {
   "cell_type": "code",
   "execution_count": null,
   "id": "5bd02fb8-debf-4d00-bab2-f02abbf85e2d",
   "metadata": {},
   "outputs": [],
   "source": [
    "#GOLD layer transformations for the files "
   ]
  },
  {
   "cell_type": "code",
   "execution_count": 37,
   "id": "2b8d1b53-70ea-460a-a9cd-c8cec83d3580",
   "metadata": {},
   "outputs": [],
   "source": [
    "import pandas as pd\n",
    "\n",
    "# Load credits_cleaned data\n",
    "credits_cleaned = pd.read_csv('C:/Users/Dell E7440/Desktop/SILVER_MOVIES/credits_cleaned.csv')\n",
    "\n",
    "# Count the number of films per director\n",
    "director_count = credits_cleaned['director'].value_counts().reset_index()\n",
    "director_count.columns = ['director', 'film_count']\n",
    "\n",
    "# Count the number of films per main actor\n",
    "actor_count = credits_cleaned['main_actor'].value_counts().reset_index()\n",
    "actor_count.columns = ['main_actor', 'film_count']\n",
    "\n",
    "# Save transformed data\n",
    "director_count.to_csv('C:/Users/Dell E7440/Desktop/GOLD_MOVIES/director_count.csv', index=False)\n",
    "actor_count.to_csv('C:/Users/Dell E7440/Desktop/GOLD_MOVIES/actor_count.csv', index=False)\n"
   ]
  },
  {
   "cell_type": "code",
   "execution_count": 39,
   "id": "81c03278-76bb-4965-8b2e-591291205861",
   "metadata": {},
   "outputs": [],
   "source": [
    "# Load ratings_cleaned data\n",
    "ratings_cleaned = pd.read_csv('C:/Users/Dell E7440/Desktop/SILVER_MOVIES/ratings_cleaned.csv')\n",
    "ratings_small_cleaned = pd.read_csv('C:/Users/Dell E7440/Desktop/SILVER_MOVIES/ratings_small_cleaned.csv')\n",
    "\n",
    "# Calculate average ratings per movie\n",
    "average_ratings = ratings_cleaned.groupby('movie_id').agg({'user_rating': 'mean'}).reset_index()\n",
    "average_ratings_small = ratings_small_cleaned.groupby('movie_id').agg({'user_rating': 'mean'}).reset_index()\n",
    "\n",
    "# Save transformed data\n",
    "average_ratings.to_csv('C:/Users/Dell E7440/Desktop/GOLD_MOVIES/average_ratings.csv', index=False)\n",
    "average_ratings_small.to_csv('C:/Users/Dell E7440/Desktop/GOLD_MOVIES/average_ratings_small.csv', index=False)\n"
   ]
  },
  {
   "cell_type": "code",
   "execution_count": 3,
   "id": "aa78cbdc-ec57-46ed-8f1e-35ff97920b1c",
   "metadata": {},
   "outputs": [],
   "source": [
    "import pandas as pd\n",
    "\n",
    "# Load datasets\n",
    "movies_cleaned = pd.read_csv('C:/Users/Dell E7440/Desktop/SILVER_MOVIES/movies_cleaned.csv')\n",
    "ratings_cleaned = pd.read_csv('C:/Users/Dell E7440/Desktop/SILVER_MOVIES/ratings_cleaned.csv')\n",
    "\n",
    "# Convert 'id' and 'movie_id' to the same data type (int or string)\n",
    "movies_cleaned['id'] = movies_cleaned['id'].astype(str)  # Convert 'id' to string\n",
    "ratings_cleaned['movie_id'] = ratings_cleaned['movie_id'].astype(str)  # Convert 'movie_id' to string\n",
    "\n",
    "# Merge datasets\n",
    "merged_movies = pd.merge(movies_cleaned, ratings_cleaned, left_on='id', right_on='movie_id', how='inner')\n",
    "\n",
    "# Save merged dataset\n",
    "merged_movies.to_csv('C:/Users/Dell E7440/Desktop/GOLD_MOVIES/merged_movies_ratings.csv', index=False)\n",
    "\n"
   ]
  },
  {
   "cell_type": "code",
   "execution_count": 4,
   "id": "1fd11e34-aeeb-49a0-a800-80cbf0429c63",
   "metadata": {},
   "outputs": [
    {
     "name": "stdout",
     "output_type": "stream",
     "text": [
      "   adult      budget                              homepage   id    imdb_id  \\\n",
      "0  False  30000000.0  http://toystory.disney.com/toy-story  862  tt0114709   \n",
      "1  False  30000000.0  http://toystory.disney.com/toy-story  862  tt0114709   \n",
      "2  False  30000000.0  http://toystory.disney.com/toy-story  862  tt0114709   \n",
      "3  False  30000000.0  http://toystory.disney.com/toy-story  862  tt0114709   \n",
      "4  False  30000000.0  http://toystory.disney.com/toy-story  862  tt0114709   \n",
      "\n",
      "  original_language original_title  popularity production_companies  \\\n",
      "0                en      Toy Story   21.946943           No Company   \n",
      "1                en      Toy Story   21.946943           No Company   \n",
      "2                en      Toy Story   21.946943           No Company   \n",
      "3                en      Toy Story   21.946943           No Company   \n",
      "4                en      Toy Story   21.946943           No Company   \n",
      "\n",
      "                                production_countries  ...  vote_average  \\\n",
      "0  [{'iso_3166_1': 'US', 'name': 'United States o...  ...           7.7   \n",
      "1  [{'iso_3166_1': 'US', 'name': 'United States o...  ...           7.7   \n",
      "2  [{'iso_3166_1': 'US', 'name': 'United States o...  ...           7.7   \n",
      "3  [{'iso_3166_1': 'US', 'name': 'United States o...  ...           7.7   \n",
      "4  [{'iso_3166_1': 'US', 'name': 'United States o...  ...           7.7   \n",
      "\n",
      "   vote_count                        genre_names       collection_name  \\\n",
      "0      5415.0  ['Animation', 'Comedy', 'Family']  Toy Story Collection   \n",
      "1      5415.0  ['Animation', 'Comedy', 'Family']  Toy Story Collection   \n",
      "2      5415.0  ['Animation', 'Comedy', 'Family']  Toy Story Collection   \n",
      "3      5415.0  ['Animation', 'Comedy', 'Family']  Toy Story Collection   \n",
      "4      5415.0  ['Animation', 'Comedy', 'Family']  Toy Story Collection   \n",
      "\n",
      "   collection_id  release_year  user_id movie_id user_rating  \\\n",
      "0          10194        1995.0     1923      862         3.0   \n",
      "1          10194        1995.0     2103      862         5.0   \n",
      "2          10194        1995.0     5380      862         1.0   \n",
      "3          10194        1995.0     6177      862         4.0   \n",
      "4          10194        1995.0     6525      862         4.0   \n",
      "\n",
      "             timestamp  \n",
      "0  1997-03-14 10:23:26  \n",
      "1  1999-12-24 14:15:12  \n",
      "2  1997-11-07 22:27:21  \n",
      "3  1997-03-26 22:27:06  \n",
      "4  1997-03-03 11:36:35  \n",
      "\n",
      "[5 rows x 25 columns]\n"
     ]
    }
   ],
   "source": [
    "# Display the first five rows of the merged dataset so we can check\n",
    "print(merged_movies.head())\n"
   ]
  },
  {
   "cell_type": "code",
   "execution_count": 5,
   "id": "c550a2a7-1990-4cff-9996-a65ca1ff5383",
   "metadata": {},
   "outputs": [
    {
     "name": "stdout",
     "output_type": "stream",
     "text": [
      "    id  user_id  adult     budget  \\\n",
      "0  100      191  False  1350000.0   \n",
      "1  100      193  False  1350000.0   \n",
      "2  100      366  False  1350000.0   \n",
      "3  100      370  False  1350000.0   \n",
      "4  100      400  False  1350000.0   \n",
      "\n",
      "                                            homepage    imdb_id  \\\n",
      "0  http://www.universalstudiosentertainment.com/l...  tt0120735   \n",
      "1  http://www.universalstudiosentertainment.com/l...  tt0120735   \n",
      "2  http://www.universalstudiosentertainment.com/l...  tt0120735   \n",
      "3  http://www.universalstudiosentertainment.com/l...  tt0120735   \n",
      "4  http://www.universalstudiosentertainment.com/l...  tt0120735   \n",
      "\n",
      "  original_language                       original_title  popularity  \\\n",
      "0                en  Lock, Stock and Two Smoking Barrels     4.60786   \n",
      "1                en  Lock, Stock and Two Smoking Barrels     4.60786   \n",
      "2                en  Lock, Stock and Two Smoking Barrels     4.60786   \n",
      "3                en  Lock, Stock and Two Smoking Barrels     4.60786   \n",
      "4                en  Lock, Stock and Two Smoking Barrels     4.60786   \n",
      "\n",
      "  production_companies                              production_countries  \\\n",
      "0           No Company  [{'iso_3166_1': 'GB', 'name': 'United Kingdom'}]   \n",
      "1           No Company  [{'iso_3166_1': 'GB', 'name': 'United Kingdom'}]   \n",
      "2           No Company  [{'iso_3166_1': 'GB', 'name': 'United Kingdom'}]   \n",
      "3           No Company  [{'iso_3166_1': 'GB', 'name': 'United Kingdom'}]   \n",
      "4           No Company  [{'iso_3166_1': 'GB', 'name': 'United Kingdom'}]   \n",
      "\n",
      "   vote_average  vote_count          genre_names collection_name  \\\n",
      "0           7.5      1671.0  ['Comedy', 'Crime']   No Collection   \n",
      "1           7.5      1671.0  ['Comedy', 'Crime']   No Collection   \n",
      "2           7.5      1671.0  ['Comedy', 'Crime']   No Collection   \n",
      "3           7.5      1671.0  ['Comedy', 'Crime']   No Collection   \n",
      "4           7.5      1671.0  ['Comedy', 'Crime']   No Collection   \n",
      "\n",
      "   collection_id  release_year movie_id  user_rating            timestamp  \n",
      "0              0        1998.0      100          3.0  1997-01-25 14:55:09  \n",
      "1              0        1998.0      100          2.0  1999-11-02 15:26:52  \n",
      "2              0        1998.0      100          3.0  1997-05-05 15:57:28  \n",
      "3              0        1998.0      100          3.0  1997-03-27 17:45:11  \n",
      "4              0        1998.0      100          3.0  1996-12-23 13:31:17  \n"
     ]
    }
   ],
   "source": [
    "# We will remove duplicates by grouping on movie_id and user_id, averaging user_rating\n",
    "\n",
    "merged_movies = merged_movies.groupby(['id', 'user_id']).agg({\n",
    "    'adult': 'first',  # Keep the first value\n",
    "    'budget': 'first',\n",
    "    'homepage': 'first',\n",
    "    'imdb_id': 'first',\n",
    "    'original_language': 'first',\n",
    "    'original_title': 'first',\n",
    "    'popularity': 'first',\n",
    "    'production_companies': 'first',\n",
    "    'production_countries': 'first',\n",
    "    'vote_average': 'first',\n",
    "    'vote_count': 'first',\n",
    "    'genre_names': 'first',\n",
    "    'collection_name': 'first',\n",
    "    'collection_id': 'first',\n",
    "    'release_year': 'first',\n",
    "    'movie_id': 'first',\n",
    "    'user_rating': 'mean',  # Take the mean rating per movie per user\n",
    "    'timestamp': 'first'\n",
    "}).reset_index()\n",
    "\n",
    "# Display first 5 rows after cleaning to check\n",
    "print(merged_movies.head())\n"
   ]
  },
  {
   "cell_type": "code",
   "execution_count": 7,
   "id": "58b59d85-6ef4-40de-a4a1-190cc1efaa81",
   "metadata": {},
   "outputs": [
    {
     "name": "stdout",
     "output_type": "stream",
     "text": [
      "    id  user_id  adult     budget  \\\n",
      "0  100      191  False  1350000.0   \n",
      "1  100      193  False  1350000.0   \n",
      "2  100      366  False  1350000.0   \n",
      "3  100      370  False  1350000.0   \n",
      "4  100      400  False  1350000.0   \n",
      "5  100      413  False  1350000.0   \n",
      "6  100      418  False  1350000.0   \n",
      "7  100      430  False  1350000.0   \n",
      "8  100      487  False  1350000.0   \n",
      "9  100      530  False  1350000.0   \n",
      "\n",
      "                                            homepage    imdb_id  \\\n",
      "0  http://www.universalstudiosentertainment.com/l...  tt0120735   \n",
      "1  http://www.universalstudiosentertainment.com/l...  tt0120735   \n",
      "2  http://www.universalstudiosentertainment.com/l...  tt0120735   \n",
      "3  http://www.universalstudiosentertainment.com/l...  tt0120735   \n",
      "4  http://www.universalstudiosentertainment.com/l...  tt0120735   \n",
      "5  http://www.universalstudiosentertainment.com/l...  tt0120735   \n",
      "6  http://www.universalstudiosentertainment.com/l...  tt0120735   \n",
      "7  http://www.universalstudiosentertainment.com/l...  tt0120735   \n",
      "8  http://www.universalstudiosentertainment.com/l...  tt0120735   \n",
      "9  http://www.universalstudiosentertainment.com/l...  tt0120735   \n",
      "\n",
      "  original_language                       original_title  popularity  \\\n",
      "0                en  Lock, Stock and Two Smoking Barrels     4.60786   \n",
      "1                en  Lock, Stock and Two Smoking Barrels     4.60786   \n",
      "2                en  Lock, Stock and Two Smoking Barrels     4.60786   \n",
      "3                en  Lock, Stock and Two Smoking Barrels     4.60786   \n",
      "4                en  Lock, Stock and Two Smoking Barrels     4.60786   \n",
      "5                en  Lock, Stock and Two Smoking Barrels     4.60786   \n",
      "6                en  Lock, Stock and Two Smoking Barrels     4.60786   \n",
      "7                en  Lock, Stock and Two Smoking Barrels     4.60786   \n",
      "8                en  Lock, Stock and Two Smoking Barrels     4.60786   \n",
      "9                en  Lock, Stock and Two Smoking Barrels     4.60786   \n",
      "\n",
      "  production_companies                              production_countries  \\\n",
      "0           No Company  [{'iso_3166_1': 'GB', 'name': 'United Kingdom'}]   \n",
      "1           No Company  [{'iso_3166_1': 'GB', 'name': 'United Kingdom'}]   \n",
      "2           No Company  [{'iso_3166_1': 'GB', 'name': 'United Kingdom'}]   \n",
      "3           No Company  [{'iso_3166_1': 'GB', 'name': 'United Kingdom'}]   \n",
      "4           No Company  [{'iso_3166_1': 'GB', 'name': 'United Kingdom'}]   \n",
      "5           No Company  [{'iso_3166_1': 'GB', 'name': 'United Kingdom'}]   \n",
      "6           No Company  [{'iso_3166_1': 'GB', 'name': 'United Kingdom'}]   \n",
      "7           No Company  [{'iso_3166_1': 'GB', 'name': 'United Kingdom'}]   \n",
      "8           No Company  [{'iso_3166_1': 'GB', 'name': 'United Kingdom'}]   \n",
      "9           No Company  [{'iso_3166_1': 'GB', 'name': 'United Kingdom'}]   \n",
      "\n",
      "   vote_average  vote_count          genre_names collection_name  \\\n",
      "0           7.5      1671.0  ['Comedy', 'Crime']   No Collection   \n",
      "1           7.5      1671.0  ['Comedy', 'Crime']   No Collection   \n",
      "2           7.5      1671.0  ['Comedy', 'Crime']   No Collection   \n",
      "3           7.5      1671.0  ['Comedy', 'Crime']   No Collection   \n",
      "4           7.5      1671.0  ['Comedy', 'Crime']   No Collection   \n",
      "5           7.5      1671.0  ['Comedy', 'Crime']   No Collection   \n",
      "6           7.5      1671.0  ['Comedy', 'Crime']   No Collection   \n",
      "7           7.5      1671.0  ['Comedy', 'Crime']   No Collection   \n",
      "8           7.5      1671.0  ['Comedy', 'Crime']   No Collection   \n",
      "9           7.5      1671.0  ['Comedy', 'Crime']   No Collection   \n",
      "\n",
      "   collection_id  release_year movie_id  user_rating            timestamp  \n",
      "0              0        1998.0      100          3.0  1997-01-25 14:55:09  \n",
      "1              0        1998.0      100          2.0  1999-11-02 15:26:52  \n",
      "2              0        1998.0      100          3.0  1997-05-05 15:57:28  \n",
      "3              0        1998.0      100          3.0  1997-03-27 17:45:11  \n",
      "4              0        1998.0      100          3.0  1996-12-23 13:31:17  \n",
      "5              0        1998.0      100          4.0  1997-01-31 19:21:05  \n",
      "6              0        1998.0      100          3.0  1997-02-08 12:01:31  \n",
      "7              0        1998.0      100          4.0  1996-12-16 04:29:04  \n",
      "8              0        1998.0      100          3.0  1997-05-11 14:47:01  \n",
      "9              0        1998.0      100          4.0  2012-01-12 08:48:14  \n"
     ]
    }
   ],
   "source": [
    "# Drop exact duplicates across all columns\n",
    "merged_movies = merged_movies.drop_duplicates()\n",
    "\n",
    "# Check the result\n",
    "print(merged_movies.head(10))\n"
   ]
  },
  {
   "cell_type": "code",
   "execution_count": 26,
   "id": "3e99d86a-5867-46c5-8fc0-0d472d8a425c",
   "metadata": {},
   "outputs": [
    {
     "name": "stdout",
     "output_type": "stream",
     "text": [
      "    id        production_countries\n",
      "0  862  [United States of America]\n",
      "1  862  [United States of America]\n",
      "2  862  [United States of America]\n",
      "3  862  [United States of America]\n",
      "4  862  [United States of America]\n"
     ]
    }
   ],
   "source": [
    "import pandas as pd\n",
    "import json\n",
    "\n",
    "# Load the merged movies ratings dataset\n",
    "file_path = r'C:\\Users\\Dell E7440\\Desktop\\GOLD_MOVIES\\merged_movies_ratings.csv'\n",
    "merged_movies = pd.read_csv(file_path)\n",
    "\n",
    "# Function to transform the production_countries column\n",
    "def transform_production_countries(countries):\n",
    "    try:\n",
    "        # Convert string representation of list to actual list using json.loads\n",
    "        countries_list = json.loads(countries.replace(\"'\", '\"'))  # Ensure quotes are correct\n",
    "        # Extract country names from the list of dictionaries\n",
    "        return [country['name'] for country in countries_list]\n",
    "    except (ValueError, TypeError):\n",
    "        return []\n",
    "\n",
    "# Apply the transformation\n",
    "merged_movies['production_countries'] = merged_movies['production_countries'].apply(transform_production_countries)\n",
    "\n",
    "# Save the transformed DataFrame to a new CSV file\n",
    "output_file_path = r'C:\\Users\\Dell E7440\\Desktop\\GOLD_MOVIES\\merged_movies_ratings_transformed.csv'\n",
    "merged_movies.to_csv(output_file_path, index=False)\n",
    "\n",
    "# Display the first five rows to verify the transformation\n",
    "print(merged_movies[['id', 'production_countries']].head())\n"
   ]
  },
  {
   "cell_type": "code",
   "execution_count": 29,
   "id": "2009cf22-1461-4be4-8ceb-212ebcb006a0",
   "metadata": {},
   "outputs": [
    {
     "name": "stdout",
     "output_type": "stream",
     "text": [
      "   adult      budget                                      homepage    id  \\\n",
      "0  False  30000000.0          http://toystory.disney.com/toy-story   862   \n",
      "1  False  65000000.0                                   No Homepage  8844   \n",
      "2  False  60000000.0                                   No Homepage   949   \n",
      "3  False  58000000.0  http://www.mgm.com/view/movie/757/Goldeneye/   710   \n",
      "4  False  98000000.0                                   No Homepage  1408   \n",
      "\n",
      "     imdb_id original_language    original_title  popularity  \\\n",
      "0  tt0114709                en         Toy Story   21.946943   \n",
      "1  tt0113497                en           Jumanji   17.015539   \n",
      "2  tt0113277                en              Heat   17.924927   \n",
      "3  tt0113189                en         GoldenEye   14.686036   \n",
      "4  tt0112760                en  Cutthroat Island    7.284477   \n",
      "\n",
      "  production_companies                               production_countries  \\\n",
      "0           No Company                       ['United States of America']   \n",
      "1           No Company                       ['United States of America']   \n",
      "2           No Company                       ['United States of America']   \n",
      "3           No Company     ['United Kingdom', 'United States of America']   \n",
      "4           No Company  ['France', 'Germany', 'Italy', 'United States ...   \n",
      "\n",
      "   ...  vote_average  vote_count                               genre_names  \\\n",
      "0  ...           7.7      5415.0         ['Animation', 'Comedy', 'Family']   \n",
      "1  ...           6.9      2413.0        ['Adventure', 'Fantasy', 'Family']   \n",
      "2  ...           7.7      1886.0  ['Action', 'Crime', 'Drama', 'Thriller']   \n",
      "3  ...           6.6      1194.0       ['Adventure', 'Action', 'Thriller']   \n",
      "4  ...           5.7       137.0                   ['Action', 'Adventure']   \n",
      "\n",
      "         collection_name  collection_id  release_year  user_id movie_id  \\\n",
      "0   Toy Story Collection          10194        1995.0     1923      862   \n",
      "1          No Collection              0        1995.0     7016     8844   \n",
      "2          No Collection              0        1995.0      174      949   \n",
      "3  James Bond Collection            645        1995.0      619      710   \n",
      "4          No Collection              0        1995.0       15     1408   \n",
      "\n",
      "  user_rating            timestamp  \n",
      "0         3.0  1997-03-14 10:23:26  \n",
      "1         4.0  2009-11-04 16:30:29  \n",
      "2         4.0  2000-04-29 02:43:16  \n",
      "3         3.0  1996-05-09 02:31:59  \n",
      "4         5.0  2012-08-26 19:18:34  \n",
      "\n",
      "[5 rows x 25 columns]\n"
     ]
    }
   ],
   "source": [
    "import pandas as pd\n",
    "\n",
    "# Initialize an empty DataFrame to collect unique movies\n",
    "movies_unique = pd.DataFrame()\n",
    "\n",
    "# Load the merged movies dataset in chunks\n",
    "file_path = r'C:\\Users\\Dell E7440\\Desktop\\GOLD_MOVIES\\merged_movies_ratings_transformed.csv'\n",
    "chunk_size = 10000  # Adjust chunk size as necessary\n",
    "\n",
    "for chunk in pd.read_csv(file_path, chunksize=chunk_size):\n",
    "    # Drop duplicates in the current chunk based on specified columns\n",
    "    unique_chunk = chunk.drop_duplicates(subset=['id', 'imdb_id', 'original_title', 'production_countries'])\n",
    "    # Append unique rows to the main DataFrame\n",
    "    movies_unique = pd.concat([movies_unique, unique_chunk], ignore_index=True)\n",
    "\n",
    "# Drop duplicates again in the concatenated DataFrame to ensure uniqueness\n",
    "movies_unique = movies_unique.drop_duplicates(subset=['id', 'imdb_id', 'original_title', 'production_countries'])\n",
    "\n",
    "# Save the cleaned DataFrame in the gold layer\n",
    "output_path = r'C:\\Users\\Dell E7440\\Desktop\\GOLD_MOVIES\\unique_movies.csv'\n",
    "movies_unique.to_csv(output_path, index=False)\n",
    "\n",
    "# Display the first few rows to verify\n",
    "print(movies_unique.head())\n",
    "\n"
   ]
  },
  {
   "cell_type": "code",
   "execution_count": 30,
   "id": "a2c79e74-d9f3-4993-8a3a-462e402f8afd",
   "metadata": {},
   "outputs": [
    {
     "name": "stdout",
     "output_type": "stream",
     "text": [
      "Number of unique movies: 7565\n"
     ]
    }
   ],
   "source": [
    "print(f\"Number of unique movies: {movies_unique.shape[0]}\")\n"
   ]
  },
  {
   "cell_type": "code",
   "execution_count": 31,
   "id": "c4f8724f-6ee0-4344-8781-f0c4d30385f4",
   "metadata": {},
   "outputs": [
    {
     "name": "stdout",
     "output_type": "stream",
     "text": [
      "adult                   0\n",
      "budget                  0\n",
      "homepage                0\n",
      "id                      0\n",
      "imdb_id                 0\n",
      "original_language       0\n",
      "original_title          0\n",
      "popularity              0\n",
      "production_companies    0\n",
      "production_countries    0\n",
      "revenue                 0\n",
      "runtime                 0\n",
      "status                  0\n",
      "title                   0\n",
      "video                   0\n",
      "vote_average            0\n",
      "vote_count              0\n",
      "genre_names             0\n",
      "collection_name         0\n",
      "collection_id           0\n",
      "release_year            8\n",
      "user_id                 0\n",
      "movie_id                0\n",
      "user_rating             0\n",
      "timestamp               0\n",
      "dtype: int64\n"
     ]
    }
   ],
   "source": [
    "print(movies_unique.isnull().sum())\n"
   ]
  },
  {
   "cell_type": "code",
   "execution_count": 16,
   "id": "49366dd5-959f-4ecd-bcbd-80050e551008",
   "metadata": {},
   "outputs": [
    {
     "name": "stdout",
     "output_type": "stream",
     "text": [
      "merged_movies 'id' dtype: int64\n",
      "keywords_cleaned 'id' dtype: int64\n"
     ]
    }
   ],
   "source": [
    "import pandas as pd\n",
    "\n",
    "# Load the cleaned keywords dataset\n",
    "keywords_cleaned = pd.read_csv('C:/Users/Dell E7440/Desktop/SILVER_MOVIES/keywords_cleaned.csv')\n",
    "\n",
    "# Check the data types of the 'id' columns\n",
    "print(\"merged_movies 'id' dtype:\", merged_movies['id'].dtype)\n",
    "print(\"keywords_cleaned 'id' dtype:\", keywords_cleaned['id'].dtype)\n",
    "\n",
    "# Convert the 'id' column in the keywords_cleaned DataFrame to int if it is object type\n",
    "if keywords_cleaned['id'].dtype == 'object':\n",
    "    keywords_cleaned['id'] = keywords_cleaned['id'].astype(int)\n",
    "\n",
    "# After this, merge movies with keywords\n",
    "merged_with_keywords = pd.merge(merged_movies, keywords_cleaned, left_on='id', right_on='id', how='inner')\n",
    "\n",
    "# Lastly, save the merged dataset\n",
    "merged_with_keywords.to_csv('C:/Users/Dell E7440/Desktop/GOLD_MOVIES/merged_movies_with_keywords.csv', index=False)\n",
    "\n"
   ]
  }
 ],
 "metadata": {
  "kernelspec": {
   "display_name": "Python 3 (ipykernel)",
   "language": "python",
   "name": "python3"
  },
  "language_info": {
   "codemirror_mode": {
    "name": "ipython",
    "version": 3
   },
   "file_extension": ".py",
   "mimetype": "text/x-python",
   "name": "python",
   "nbconvert_exporter": "python",
   "pygments_lexer": "ipython3",
   "version": "3.12.4"
  }
 },
 "nbformat": 4,
 "nbformat_minor": 5
}
